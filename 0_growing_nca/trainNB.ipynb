{
 "cells": [
  {
   "cell_type": "code",
   "execution_count": 3,
   "metadata": {},
   "outputs": [
    {
     "name": "stderr",
     "output_type": "stream",
     "text": [
      "c:\\Users\\mrave\\AppData\\Local\\Programs\\Python\\Python310\\lib\\site-packages\\tqdm\\auto.py:22: TqdmWarning: IProgress not found. Please update jupyter and ipywidgets. See https://ipywidgets.readthedocs.io/en/stable/user_install.html\n",
      "  from .autonotebook import tqdm as notebook_tqdm\n"
     ]
    }
   ],
   "source": [
    "# imports\n",
    "import io\n",
    "import base64\n",
    "import pathlib\n",
    "import datetime\n",
    "import random\n",
    "import numpy as np\n",
    "import json\n",
    "import torch\n",
    "import torch.nn as nn\n",
    "\n",
    "from PIL import Image\n",
    "from matplotlib import pyplot as plt\n",
    "from tqdm import tqdm\n",
    "from model import NCA_model"
   ]
  },
  {
   "cell_type": "code",
   "execution_count": 16,
   "metadata": {},
   "outputs": [],
   "source": [
    "# utility functions\n",
    "\n",
    "# creates a circle mask given a size, radius and position\n",
    "def create_circle_mask(size, radius, pos):\n",
    "    pos = pos * size\n",
    "    Y, X = np.ogrid[:size, :size]\n",
    "    dist_from_center = np.sqrt((X - pos[0])**2 + (Y-pos[1])**2)\n",
    "    mask = dist_from_center >= radius\n",
    "    return mask\n",
    "\n",
    "# Loads an image from a specified path and converts to torch.Tensor\n",
    "def load_image(path, size):\n",
    "    img = Image.open(path)\n",
    "    img = img.resize((size, size), Image.Resampling.BILINEAR)\n",
    "    img = np.float32(img) / 255.0\n",
    "    img[..., :3] *= img[..., 3:]\n",
    "    return torch.from_numpy(img).permute(2, 0, 1)[None, ...]\n",
    "\n",
    "# converts an RGBA image to a RGB image\n",
    "def to_rgb(img_rgba):\n",
    "    rgb, a = img_rgba[:, :3, ...], torch.clamp(img_rgba[:, 3:, ...], 0, 1)\n",
    "    return torch.clamp(1.0 - a + rgb, 0, 1)\n",
    "\n",
    "def show_image(img):\n",
    "    img_rgb = to_rgb(img).squeeze().permute(1, 2, 0)\n",
    "    plt.axis('off')\n",
    "    plt.imshow(img_rgb)\n",
    "\n",
    "# Create a starting tensor for training\n",
    "# Only the active pixels are goin to be in the middle\n",
    "def make_seed(size, n_channels):\n",
    "    x = torch.zeros((1, n_channels, size, size), dtype=torch.float32)\n",
    "    x[:, 3:, size // 2, size // 2] = 1\n",
    "    return x"
   ]
  },
  {
   "cell_type": "code",
   "execution_count": 6,
   "metadata": {},
   "outputs": [
    {
     "name": "stdout",
     "output_type": "stream",
     "text": [
      "cuda available?  False\n",
      "device:  cpu\n"
     ]
    }
   ],
   "source": [
    "# training parameters\n",
    "img = 'imgs\\pup.png'\n",
    "name = 'pup64'\n",
    "save_model = True\n",
    "\n",
    "size = 64\n",
    "pad = 16\n",
    "n_channels = 16\n",
    "n_train_iter = 5000\n",
    "batch_size = 8\n",
    "pool_size = 1024\n",
    "n_damage = 3\n",
    "device = 'cuda' if torch.cuda.is_available() else 'cpu'\n",
    "\n",
    "print ('cuda available? ', torch.cuda.is_available())\n",
    "print ('device: ', device)\n",
    "\n",
    "eval_freq = 500\n",
    "eval_iter = 300\n",
    "\n",
    "log_dir = 'logs'\n",
    "model_dir = 'models'"
   ]
  },
  {
   "cell_type": "code",
   "execution_count": 18,
   "metadata": {},
   "outputs": [
    {
     "name": "stdout",
     "output_type": "stream",
     "text": [
      "img_rgb.shape:  torch.Size([64, 64, 3])\n"
     ]
    },
    {
     "data": {
      "image/png": "[encoded data removed]",
      "text/plain": [
       "<Figure size 640x480 with 1 Axes>"
      ]
     },
     "metadata": {},
     "output_type": "display_data"
    }
   ],
   "source": [
    "# misc\n",
    "full_size = size + (2 * pad)\n",
    "device = torch.device(device)\n",
    "\n",
    "# create log\n",
    "log_path = pathlib.Path(log_dir)\n",
    "log_path.mkdir(parents=True, exist_ok=True)\n",
    "\n",
    "# target image\n",
    "loaded_img = load_image(img, size)\n",
    "target_img_ = nn.functional.pad(loaded_img, (pad, pad, pad, pad), 'constant', 0)\n",
    "target_img = target_img_.to(device)\n",
    "target_img = target_img.repeat(batch_size, 1, 1, 1)\n",
    "\n",
    "show_image(loaded_img)"
   ]
  },
  {
   "cell_type": "code",
   "execution_count": null,
   "metadata": {},
   "outputs": [],
   "source": [
    "# model and optimizer\n",
    "model = NCA_model(_n_channels=args.n_channels, _device=device)\n",
    "optimizer = torch.optim.Adam(model.parameters(), lr=2e-3)\n",
    "\n",
    "# pool init\n",
    "seed = make_seed(args.size, args.n_channels).to(device)\n",
    "seed = nn.functional.pad(seed, (p, p, p, p), 'constant', 0)\n",
    "pool = seed.clone().repeat(args.pool_size, 1, 1, 1)\n",
    "\n",
    "# training loop\n",
    "for it in tqdm(range(n_train_iter)):\n",
    "    batch_ixs = np.random.choice(\n",
    "        pool_size, batch_size, replace=False\n",
    "    ).tolist()\n",
    "    \n",
    "    # get training batch\n",
    "    x = pool[batch_ixs]\n",
    "    \n",
    "    # damage examples in batch\n",
    "    if n_damage > 0:\n",
    "        radius = random.uniform(size*0.1, size*0.4)\n",
    "        u = random.uniform(0, 1) * size + pad\n",
    "        v = random.uniform(0, 1) * size + pad\n",
    "        mask = create_circle_mask(full_size, radius, [u, v])\n",
    "        x[-n_damage:] *= torch.tensor(mask).to(device)\n",
    "    \n",
    "    # forward pass\n",
    "    for i in range(np.random.randint(64, 96)):\n",
    "        x = model(x)\n",
    "    \n",
    "    loss_batch = ((target_img - x[:, :4, ...]) ** 2).mean(dim=[1, 2, 3])\n",
    "    loss = loss_batch.mean()\n",
    "    \n",
    "    optimizer.zero_grad()\n",
    "    loss.backward()\n",
    "    optimizer.step()\n",
    "    print ('train/loss: ', it, '/', loss)\n",
    "    \n",
    "    # find best in batch\n",
    "    argmax_batch = loss_batch.argmax().item()\n",
    "    argmax_pool = batch_ixs[argmax_batch]\n",
    "    remaining_batch = [i for i in range(batch_size) if i != argmax_batch]\n",
    "    remaining_pool = [i for i in batch_ixs if i != argmax_pool]\n",
    "    \n",
    "    pool[argmax_pool] = seed.clone()\n",
    "    pool[remaining_pool] = x[remaining_batch].detach()\n",
    "    \n",
    "    if it % eval_freq == 0:\n",
    "        x_eval = seed.clone()\n",
    "        eval_video = torch.empty(1, eval_freq, 3, *x_eval.shape[2:])\n",
    "        for it_eval in range(eval_iter):\n",
    "            x_eval = model(x_eval)\n",
    "            x_eval_out = to_rgb(x_eval[:, :4].detach().cpu())\n",
    "            eval_video[0, it_eval] = x_eval_out\n",
    "                    \n",
    "# save model\n",
    "if save_model:\n",
    "    model_path = pathlib.Path(model_dir)\n",
    "    model_path.mkdir(parents=True, exist_ok=True)\n",
    "    if name == None:\n",
    "        ts = str(datetime.datetime.now()).replace(' ', '_').replace(':', '-').replace('.', '-')\n",
    "        name = 'model_' + ts\n",
    "    torch.save(model, model_dir + '\\\\' + name + '.pt')\n",
    "    \n",
    "    # save model parameters\n",
    "    dict = {\n",
    "        \"img\": img,\n",
    "        \"batch_size\": batch_size,\n",
    "        \"device\": device,\n",
    "        \"eval_freq\": eval_freq,\n",
    "        \"eval_iter\": eval_iter,\n",
    "        \"n_train_iter\": n_train_iter,\n",
    "        \"n_channels\": n_channels,\n",
    "        \"log_dir\": log_dir,\n",
    "        \"pad\": pad,\n",
    "        \"pool_size\": pool_size,\n",
    "        \"size\": size,\n",
    "        \"save_model\": save_model,\n",
    "        \"model_dir\": model_dir,\n",
    "        \"name\": name,\n",
    "        \"damage\": n_damage\n",
    "    }\n",
    "    json_object = json.dumps(dict, indent=4)\n",
    "    with open(model_dir + '\\\\' + name + '_params.json', 'w') as outfile:\n",
    "        outfile.write(json_object)"
   ]
  }
 ],
 "metadata": {
  "kernelspec": {
   "display_name": "Python 3",
   "language": "python",
   "name": "python3"
  },
  "language_info": {
   "codemirror_mode": {
    "name": "ipython",
    "version": 3
   },
   "file_extension": ".py",
   "mimetype": "text/x-python",
   "name": "python",
   "nbconvert_exporter": "python",
   "pygments_lexer": "ipython3",
   "version": "3.10.7"
  },
  "orig_nbformat": 4
 },
 "nbformat": 4,
 "nbformat_minor": 2
}
