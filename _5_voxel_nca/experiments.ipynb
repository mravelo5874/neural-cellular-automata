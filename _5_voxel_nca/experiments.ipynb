{
 "cells": [
  {
   "cell_type": "markdown",
   "metadata": {},
   "source": [
    "A notebook used to run experiments"
   ]
  },
  {
   "cell_type": "code",
   "execution_count": null,
   "metadata": {},
   "outputs": [],
   "source": [
    "from scripts.nca import VoxelUtil as util\n",
    "from scripts.vox.Vox import Vox\n",
    "\n",
    "seed_1 = util.custom_seed(_plus_x='red', _plus_y='green', _plus_z='blue')\n",
    "Vox().load_from_tensor(seed_1).render(_show_grid=True)\n",
    "\n",
    "seed_2 = util.custom_seed(_minus_x='green', _plus_y='red', _plus_z='blue')\n",
    "Vox().load_from_tensor(seed_2).render(_show_grid=True)\n",
    "\n",
    "seed_3 = util.custom_seed(_minus_x='red', _minus_y='green', _plus_z='blue')\n",
    "Vox().load_from_tensor(seed_3).render(_show_grid=True)\n",
    "\n",
    "seed_4 = util.custom_seed(_plus_x='green', _minus_y='red', _plus_z='blue')\n",
    "Vox().load_from_tensor(seed_4).render(_show_grid=True)"
   ]
  },
  {
   "cell_type": "code",
   "execution_count": null,
   "metadata": {},
   "outputs": [],
   "source": [
    "x = [0, 1, 2, 3, 4, 5, 6, 7, 8, 9]\n",
    "print (x[:-3])\n",
    "print (x[-1])\n",
    "print (x[-2])\n",
    "print (x[-3])\n",
    "print (x[-1:])\n",
    "print (x[-2:])\n",
    "print (x[-3:])\n",
    "print (x[-1:])\n",
    "print (x[-2:-1])\n",
    "print (x[-3:-2])"
   ]
  },
  {
   "cell_type": "code",
   "execution_count": null,
   "metadata": {},
   "outputs": [],
   "source": [
    "import torch\n",
    "import math\n",
    "import numpy as np\n",
    "from scripts.nca import VoxelUtil as util\n",
    "from scipy.spatial.transform import Rotation\n",
    "\n",
    "test_cases = [\n",
    "# Basic Cases\n",
    "([0, 0, 0], [1, 0, 0, 0]),\n",
    "\n",
    "# Rotation around Each Axis\n",
    "([45, 0, 0], [0.92388, 0.38268, 0, 0]),\n",
    "([0, 30, 0], [0.96593, 0, 0.25882, 0]),\n",
    "([0, 0, 60], [0.86603, 0, 0, 0.5]),\n",
    "\n",
    "# Combined Rotations\n",
    "([45, 30, 60], [0.85355, 0.35355, 0.14644, 0.35355]),\n",
    "\n",
    "# Negative Angles\n",
    "([-45, -30, -60], [0.85355, -0.35355, -0.14644, -0.35355]),\n",
    "\n",
    "# Edge Cases\n",
    "([90, 0, 0], [0, 1, 0, 0]),\n",
    "([0, 90, 0], [0.70711, 0.70711, 0, 0]),\n",
    "([0, 0, 90], [0.70711, 0, 0, 0.70711]),\n",
    "\n",
    "# Random Angles\n",
    "([23.5, 56.8, -12.3], [0.91018, 0.36363, 0.17845, -0.09006]),\n",
    "\n",
    "# Normalization\n",
    "([180, 0, 0], [-1, 0, 0, 0]),\n",
    "\n",
    "# Singularities\n",
    "([90, 90, 0], [0.5, 0.5, 0.5, -0.5]),\n",
    "([90, -90, 0], [0.5, -0.5, 0.5, 0.5]),\n",
    "]\n",
    "    \n",
    "    \n",
    "for i in range(len(test_cases)):\n",
    "    tc = test_cases[i]\n",
    "    _ax = tc[0][0]\n",
    "    _ay = tc[0][1]\n",
    "    _az = tc[0][2]\n",
    "    x = torch.tensor([math.radians(_ax)]).unsqueeze(0)\n",
    "    y = torch.tensor([math.radians(_ay)]).unsqueeze(0)\n",
    "    z = torch.tensor([math.radians(_az)]).unsqueeze(0)\n",
    "    q = util.euler_to_quaternion(x, y, z)\n",
    "    \n",
    "    r = Rotation.from_euler('xyz', [_ax, _ay, _az], degrees=True)\n",
    "    sci_q = r.as_quat()\n",
    "    sci_q2 = [sci_q[3], sci_q[0], sci_q[1], sci_q[2]]\n",
    "    \n",
    "    \n",
    "    print (f'test case: {i}:\\n\\t angle: {tc[0]},\\n\\t quat: {tc[1]},\\n\\t util res: {np.array(q)},\\n\\t scipy res: {sci_q2},\\n\\t pass: {q == sci_q2}')"
   ]
  },
  {
   "cell_type": "code",
   "execution_count": 19,
   "metadata": {},
   "outputs": [
    {
     "name": "stdout",
     "output_type": "stream",
     "text": [
      "p: [[0.43, 0.79, 0.11], [0.21, 0.11, 12.33]], res: [[-0.07111877  0.8384839   0.33613519]\n",
      " [ 5.54863455  7.98229976  7.58819116]]\n"
     ]
    }
   ],
   "source": [
    "from scipy.spatial.transform import Rotation\n",
    "\n",
    "p = [[0.43, 0.79, 0.11], [0.21, 0.11, 12.33]]\n",
    "r = [[45, 30, 60], [-45, -30, -60]]\n",
    "\n",
    "rot = Rotation.from_euler('xyz', r, degrees=True)\n",
    "res = rot.apply(p)\n",
    "\n",
    "print (f'p: {p}, res: {res}')"
   ]
  }
 ],
 "metadata": {
  "kernelspec": {
   "display_name": "Python 3",
   "language": "python",
   "name": "python3"
  },
  "language_info": {
   "codemirror_mode": {
    "name": "ipython",
    "version": 3
   },
   "file_extension": ".py",
   "mimetype": "text/x-python",
   "name": "python",
   "nbconvert_exporter": "python",
   "pygments_lexer": "ipython3",
   "version": "3.11.3"
  }
 },
 "nbformat": 4,
 "nbformat_minor": 2
}
