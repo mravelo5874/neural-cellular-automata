{
 "cells": [
  {
   "cell_type": "markdown",
   "metadata": {},
   "source": [
    "A notebook used to run experiments"
   ]
  },
  {
   "cell_type": "code",
   "execution_count": null,
   "metadata": {},
   "outputs": [],
   "source": [
    "from scripts.nca import VoxelUtil as util\n",
    "from scripts.vox.Vox import Vox\n",
    "\n",
    "seed_1 = util.custom_seed(_plus_x='red', _plus_y='green', _plus_z='blue')\n",
    "Vox().load_from_tensor(seed_1).render(_show_grid=True)\n",
    "\n",
    "seed_2 = util.custom_seed(_minus_x='green', _plus_y='red', _plus_z='blue')\n",
    "Vox().load_from_tensor(seed_2).render(_show_grid=True)\n",
    "\n",
    "seed_3 = util.custom_seed(_minus_x='red', _minus_y='green', _plus_z='blue')\n",
    "Vox().load_from_tensor(seed_3).render(_show_grid=True)\n",
    "\n",
    "seed_4 = util.custom_seed(_plus_x='green', _minus_y='red', _plus_z='blue')\n",
    "Vox().load_from_tensor(seed_4).render(_show_grid=True)"
   ]
  },
  {
   "cell_type": "code",
   "execution_count": null,
   "metadata": {},
   "outputs": [],
   "source": [
    "import torch\n",
    "import numpy as np\n",
    "\n",
    "px = torch.tensor()"
   ]
  }
 ],
 "metadata": {
  "kernelspec": {
   "display_name": "Python 3",
   "language": "python",
   "name": "python3"
  },
  "language_info": {
   "codemirror_mode": {
    "name": "ipython",
    "version": 3
   },
   "file_extension": ".py",
   "mimetype": "text/x-python",
   "name": "python",
   "nbconvert_exporter": "python",
   "pygments_lexer": "ipython3",
   "version": "3.11.3"
  }
 },
 "nbformat": 4,
 "nbformat_minor": 2
}
