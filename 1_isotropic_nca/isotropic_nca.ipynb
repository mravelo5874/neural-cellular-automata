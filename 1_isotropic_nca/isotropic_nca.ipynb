{
 "cells": [
  {
   "cell_type": "markdown",
   "metadata": {},
   "source": [
    "Utility Functions"
   ]
  },
  {
   "cell_type": "code",
   "execution_count": 14,
   "metadata": {},
   "outputs": [],
   "source": [
    "import PIL.Image\n",
    "import numpy as np\n",
    "from matplotlib import pyplot as plt\n",
    "\n",
    "def load_image(_path, _size):\n",
    "    img = PIL.Image.open(_path)\n",
    "    img = img.resize((_size, _size), PIL.Image.Resampling.BICUBIC)\n",
    "    img = np.float32(img) / 255.0\n",
    "    img[..., :3] *= img[..., 3:]\n",
    "    return img\n",
    "\n",
    "def show_image(_img):\n",
    "    assert len(_img.shape) == 3\n",
    "    assert _img.shape[2] == 4\n",
    "    plt.axis('off')\n",
    "    plt.imshow(_img)\n",
    "    plt.show()\n",
    "    \n",
    "def to_tensor(_img):\n",
    "    pass\n",
    "    \n",
    "# def to_rgb(_img):\n",
    "#     rgb, a = img_rgba[:, :3, ...], torch.clamp(img_rgba[:, 3:, ...], 0, 1)\n",
    "#     return torch.clamp(rgb, 0, 1)"
   ]
  },
  {
   "cell_type": "code",
   "execution_count": 15,
   "metadata": {},
   "outputs": [
    {
     "name": "stdout",
     "output_type": "stream",
     "text": [
      "(40, 40, 4)\n"
     ]
    },
    {
     "data": {
      "image/png": "[encoded data removed]",
      "text/plain": [
       "<Figure size 640x480 with 1 Axes>"
      ]
     },
     "metadata": {},
     "output_type": "display_data"
    }
   ],
   "source": [
    "img = load_image('..\\\\_images\\\\cowboy.png', 40)\n",
    "show_image(img)"
   ]
  }
 ],
 "metadata": {
  "kernelspec": {
   "display_name": "Python 3",
   "language": "python",
   "name": "python3"
  },
  "language_info": {
   "codemirror_mode": {
    "name": "ipython",
    "version": 3
   },
   "file_extension": ".py",
   "mimetype": "text/x-python",
   "name": "python",
   "nbconvert_exporter": "python",
   "pygments_lexer": "ipython3",
   "version": "3.11.3"
  }
 },
 "nbformat": 4,
 "nbformat_minor": 2
}
