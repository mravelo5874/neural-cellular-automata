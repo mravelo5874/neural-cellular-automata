{
 "cells": [
  {
   "cell_type": "markdown",
   "metadata": {},
   "source": [
    "Utility Functions"
   ]
  },
  {
   "cell_type": "code",
   "execution_count": 10,
   "metadata": {},
   "outputs": [],
   "source": [
    "import torch\n",
    "import PIL.Image\n",
    "import numpy as np\n",
    "from matplotlib import pyplot as plt\n",
    "\n",
    "def load_image_as_tensor(_path, _size):\n",
    "    img = PIL.Image.open(_path)\n",
    "    img = img.resize((_size, _size), PIL.Image.Resampling.BICUBIC)\n",
    "    img = np.float32(img) / 255.0\n",
    "    img[..., :3] *= img[..., 3:]\n",
    "    return torch.from_numpy(img)[None, ...]\n",
    "\n",
    "def show_tensor_as_image(_img):\n",
    "    img = to_rgb(_img).squeeze()\n",
    "    plt.axis('off')\n",
    "    plt.imshow(img)\n",
    "    plt.show()\n",
    "    \n",
    "def to_rgb(_x):\n",
    "    return torch.clamp(_x[:, :, :, :3], 0, 1)"
   ]
  },
  {
   "cell_type": "code",
   "execution_count": 13,
   "metadata": {},
   "outputs": [
    {
     "name": "stdout",
     "output_type": "stream",
     "text": [
      "img.shape:  torch.Size([1, 40, 40, 4])\n",
      "to_rgb(img).shape:  torch.Size([1, 40, 40, 3])\n"
     ]
    },
    {
     "data": {
      "image/png": "[encoded data removed]",
      "text/plain": [
       "<Figure size 640x480 with 1 Axes>"
      ]
     },
     "metadata": {},
     "output_type": "display_data"
    }
   ],
   "source": [
    "img = load_image_as_tensor('..\\\\_images\\\\cowboy.png', 40)\n",
    "print ('img.shape: ', img.shape)\n",
    "print ('to_rgb(img).shape: ', to_rgb(img).shape)\n",
    "rgb = to_rgb(img)\n",
    "show_tensor_as_image(img)"
   ]
  },
  {
   "cell_type": "markdown",
   "metadata": {},
   "source": [
    "Structured Seed Generation"
   ]
  },
  {
   "cell_type": "code",
   "execution_count": null,
   "metadata": {},
   "outputs": [],
   "source": [
    "# load seed image from file"
   ]
  },
  {
   "cell_type": "markdown",
   "metadata": {},
   "source": [
    "Neural Cellular Automata Model"
   ]
  },
  {
   "cell_type": "code",
   "execution_count": null,
   "metadata": {},
   "outputs": [],
   "source": [
    "class NCA(torch.nn.Module):\n",
    "    def __init__(self, _channels=16, _hidden=128):\n",
    "        super().__init__()\n",
    "        \n",
    "    def forward(_x):\n",
    "        return _x"
   ]
  }
 ],
 "metadata": {
  "kernelspec": {
   "display_name": "Python 3",
   "language": "python",
   "name": "python3"
  },
  "language_info": {
   "codemirror_mode": {
    "name": "ipython",
    "version": 3
   },
   "file_extension": ".py",
   "mimetype": "text/x-python",
   "name": "python",
   "nbconvert_exporter": "python",
   "pygments_lexer": "ipython3",
   "version": "3.11.3"
  }
 },
 "nbformat": 4,
 "nbformat_minor": 2
}
